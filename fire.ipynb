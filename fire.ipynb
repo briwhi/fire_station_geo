{
 "cells": [
  {
   "cell_type": "code",
   "execution_count": null,
   "id": "5e4c4018",
   "metadata": {},
   "outputs": [],
   "source": [
    "import pandas as pd \n",
    "import geopandas as gpd \n"
   ]
  }
 ],
 "metadata": {
  "language_info": {
   "name": "python"
  }
 },
 "nbformat": 4,
 "nbformat_minor": 5
}
