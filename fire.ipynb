{
 "cells": [
  {
   "cell_type": "code",
   "execution_count": 63,
   "id": "5e4c4018",
   "metadata": {},
   "outputs": [],
   "source": [
    "import pandas as pd \n",
    "import geopandas as gpd \n",
    "import contextily as cx\n",
    "import matplotlib.pyplot as plt\n"
   ]
  },
  {
   "cell_type": "code",
   "execution_count": 64,
   "id": "9b6dd9b1",
   "metadata": {},
   "outputs": [
    {
     "data": {
      "text/html": [
       "<div>\n",
       "<style scoped>\n",
       "    .dataframe tbody tr th:only-of-type {\n",
       "        vertical-align: middle;\n",
       "    }\n",
       "\n",
       "    .dataframe tbody tr th {\n",
       "        vertical-align: top;\n",
       "    }\n",
       "\n",
       "    .dataframe thead th {\n",
       "        text-align: right;\n",
       "    }\n",
       "</style>\n",
       "<table border=\"1\" class=\"dataframe\">\n",
       "  <thead>\n",
       "    <tr style=\"text-align: right;\">\n",
       "      <th></th>\n",
       "      <th>Department</th>\n",
       "      <th>Station</th>\n",
       "      <th>Type</th>\n",
       "      <th>Address</th>\n",
       "      <th>City</th>\n",
       "      <th>State</th>\n",
       "      <th>Latitude</th>\n",
       "      <th>Longitude</th>\n",
       "      <th>geometry</th>\n",
       "    </tr>\n",
       "  </thead>\n",
       "  <tbody>\n",
       "    <tr>\n",
       "      <th>0</th>\n",
       "      <td>Rock Community</td>\n",
       "      <td>1.0</td>\n",
       "      <td>Fire</td>\n",
       "      <td>1533 Jeffco Boulevard</td>\n",
       "      <td>Arnold</td>\n",
       "      <td>MO</td>\n",
       "      <td>38.43291</td>\n",
       "      <td>-90.37266</td>\n",
       "      <td>POINT (-90.37266 38.43291)</td>\n",
       "    </tr>\n",
       "    <tr>\n",
       "      <th>1</th>\n",
       "      <td>Rock Community</td>\n",
       "      <td>2.0</td>\n",
       "      <td>Fire</td>\n",
       "      <td>1299 Main Street</td>\n",
       "      <td>Imperial</td>\n",
       "      <td>MO</td>\n",
       "      <td>38.36965</td>\n",
       "      <td>-90.39000</td>\n",
       "      <td>POINT (-90.39 38.36965)</td>\n",
       "    </tr>\n",
       "    <tr>\n",
       "      <th>2</th>\n",
       "      <td>Rock Community</td>\n",
       "      <td>3.0</td>\n",
       "      <td>Fire</td>\n",
       "      <td>3540 Lonedell Road</td>\n",
       "      <td>Arnold</td>\n",
       "      <td>MO</td>\n",
       "      <td>38.43288</td>\n",
       "      <td>-90.41973</td>\n",
       "      <td>POINT (-90.41973 38.43288)</td>\n",
       "    </tr>\n",
       "    <tr>\n",
       "      <th>3</th>\n",
       "      <td>Rock Community</td>\n",
       "      <td>4.0</td>\n",
       "      <td>Fire</td>\n",
       "      <td>3889 Miller Road</td>\n",
       "      <td>Arnold</td>\n",
       "      <td>MO</td>\n",
       "      <td>38.40693</td>\n",
       "      <td>-90.40625</td>\n",
       "      <td>POINT (-90.40625 38.40693)</td>\n",
       "    </tr>\n",
       "    <tr>\n",
       "      <th>4</th>\n",
       "      <td>Rock Community</td>\n",
       "      <td>5.0</td>\n",
       "      <td>Fire</td>\n",
       "      <td>3749 Telegraph Road</td>\n",
       "      <td>Arnold</td>\n",
       "      <td>MO</td>\n",
       "      <td>38.40658</td>\n",
       "      <td>-90.37522</td>\n",
       "      <td>POINT (-90.37522 38.40658)</td>\n",
       "    </tr>\n",
       "  </tbody>\n",
       "</table>\n",
       "</div>"
      ],
      "text/plain": [
       "       Department  Station  Type                Address      City State  \\\n",
       "0  Rock Community      1.0  Fire  1533 Jeffco Boulevard    Arnold    MO   \n",
       "1  Rock Community      2.0  Fire       1299 Main Street  Imperial    MO   \n",
       "2  Rock Community      3.0  Fire     3540 Lonedell Road    Arnold    MO   \n",
       "3  Rock Community      4.0  Fire       3889 Miller Road    Arnold    MO   \n",
       "4  Rock Community      5.0  Fire    3749 Telegraph Road    Arnold    MO   \n",
       "\n",
       "   Latitude  Longitude                    geometry  \n",
       "0  38.43291  -90.37266  POINT (-90.37266 38.43291)  \n",
       "1  38.36965  -90.39000     POINT (-90.39 38.36965)  \n",
       "2  38.43288  -90.41973  POINT (-90.41973 38.43288)  \n",
       "3  38.40693  -90.40625  POINT (-90.40625 38.40693)  \n",
       "4  38.40658  -90.37522  POINT (-90.37522 38.40658)  "
      ]
     },
     "execution_count": 64,
     "metadata": {},
     "output_type": "execute_result"
    }
   ],
   "source": [
    "df = pd.read_csv('fire_stations.csv', delimiter='\\t')\n",
    "geo_df = gpd.GeoDataFrame(df, \n",
    "                          geometry=gpd.points_from_xy(df.Longitude, df.Latitude),\n",
    "                          crs=\"EPSG:4326\")\n",
    "geo_df.head()"
   ]
  },
  {
   "cell_type": "code",
   "execution_count": 68,
   "id": "a7ed989d",
   "metadata": {},
   "outputs": [
    {
     "name": "stdout",
     "output_type": "stream",
     "text": [
      "EPSG:4326\n"
     ]
    }
   ],
   "source": [
    "print(geo_df.crs)"
   ]
  },
  {
   "cell_type": "code",
   "execution_count": 71,
   "id": "0b72215f",
   "metadata": {},
   "outputs": [
    {
     "ename": "CRSError",
     "evalue": "The EPSG code is unknown. PROJ: proj_create_from_database: Cannot find proj.db",
     "output_type": "error",
     "traceback": [
      "\u001b[1;31m---------------------------------------------------------------------------\u001b[0m",
      "\u001b[1;31mCPLE_AppDefinedError\u001b[0m                      Traceback (most recent call last)",
      "File \u001b[1;32mrasterio\\\\crs.pyx:592\u001b[0m, in \u001b[0;36mrasterio.crs.CRS.from_epsg\u001b[1;34m()\u001b[0m\n",
      "File \u001b[1;32mrasterio\\\\_err.pyx:289\u001b[0m, in \u001b[0;36mrasterio._err.exc_wrap_int\u001b[1;34m()\u001b[0m\n",
      "\u001b[1;31mCPLE_AppDefinedError\u001b[0m: PROJ: proj_create_from_database: Cannot find proj.db",
      "\nDuring handling of the above exception, another exception occurred:\n",
      "\u001b[1;31mCRSError\u001b[0m                                  Traceback (most recent call last)",
      "Cell \u001b[1;32mIn[71], line 3\u001b[0m\n\u001b[0;32m      1\u001b[0m fig, ax \u001b[38;5;241m=\u001b[39m plt\u001b[38;5;241m.\u001b[39msubplots(figsize\u001b[38;5;241m=\u001b[39m(\u001b[38;5;241m10\u001b[39m,\u001b[38;5;241m10\u001b[39m))\n\u001b[0;32m      2\u001b[0m geo_df\u001b[38;5;241m.\u001b[39mplot(ax\u001b[38;5;241m=\u001b[39max)\n\u001b[1;32m----> 3\u001b[0m \u001b[43mcx\u001b[49m\u001b[38;5;241;43m.\u001b[39;49m\u001b[43madd_basemap\u001b[49m\u001b[43m(\u001b[49m\u001b[43max\u001b[49m\u001b[43m,\u001b[49m\u001b[43m \u001b[49m\u001b[43mcrs\u001b[49m\u001b[38;5;241;43m=\u001b[39;49m\u001b[43mgeo_df\u001b[49m\u001b[38;5;241;43m.\u001b[39;49m\u001b[43mcrs\u001b[49m\u001b[43m)\u001b[49m\n\u001b[0;32m      4\u001b[0m plt\u001b[38;5;241m.\u001b[39mshow()\n",
      "File \u001b[1;32m~\\AppData\\Roaming\\Python\\Python313\\site-packages\\contextily\\plotting.py:130\u001b[0m, in \u001b[0;36madd_basemap\u001b[1;34m(ax, zoom, source, interpolation, attribution, attribution_size, reset_extent, crs, resampling, zoom_adjust, **extra_imshow_args)\u001b[0m\n\u001b[0;32m    128\u001b[0m \u001b[38;5;66;03m# Convert extent from `crs` into WM for tile query\u001b[39;00m\n\u001b[0;32m    129\u001b[0m \u001b[38;5;28;01mif\u001b[39;00m crs \u001b[38;5;129;01mis\u001b[39;00m \u001b[38;5;129;01mnot\u001b[39;00m \u001b[38;5;28;01mNone\u001b[39;00m:\n\u001b[1;32m--> 130\u001b[0m     left, right, bottom, top \u001b[38;5;241m=\u001b[39m \u001b[43m_reproj_bb\u001b[49m\u001b[43m(\u001b[49m\n\u001b[0;32m    131\u001b[0m \u001b[43m        \u001b[49m\u001b[43mleft\u001b[49m\u001b[43m,\u001b[49m\u001b[43m \u001b[49m\u001b[43mright\u001b[49m\u001b[43m,\u001b[49m\u001b[43m \u001b[49m\u001b[43mbottom\u001b[49m\u001b[43m,\u001b[49m\u001b[43m \u001b[49m\u001b[43mtop\u001b[49m\u001b[43m,\u001b[49m\u001b[43m \u001b[49m\u001b[43mcrs\u001b[49m\u001b[43m,\u001b[49m\u001b[43m \u001b[49m\u001b[38;5;124;43m\"\u001b[39;49m\u001b[38;5;124;43mepsg:3857\u001b[39;49m\u001b[38;5;124;43m\"\u001b[39;49m\n\u001b[0;32m    132\u001b[0m \u001b[43m    \u001b[49m\u001b[43m)\u001b[49m\n\u001b[0;32m    133\u001b[0m \u001b[38;5;66;03m# Download image\u001b[39;00m\n\u001b[0;32m    134\u001b[0m image, extent \u001b[38;5;241m=\u001b[39m bounds2img(\n\u001b[0;32m    135\u001b[0m     left,\n\u001b[0;32m    136\u001b[0m     bottom,\n\u001b[1;32m   (...)\u001b[0m\n\u001b[0;32m    142\u001b[0m     zoom_adjust\u001b[38;5;241m=\u001b[39mzoom_adjust,\n\u001b[0;32m    143\u001b[0m )\n",
      "File \u001b[1;32m~\\AppData\\Roaming\\Python\\Python313\\site-packages\\contextily\\plotting.py:231\u001b[0m, in \u001b[0;36m_reproj_bb\u001b[1;34m(left, right, bottom, top, s_crs, t_crs)\u001b[0m\n\u001b[0;32m    230\u001b[0m \u001b[38;5;28;01mdef\u001b[39;00m\u001b[38;5;250m \u001b[39m\u001b[38;5;21m_reproj_bb\u001b[39m(left, right, bottom, top, s_crs, t_crs):\n\u001b[1;32m--> 231\u001b[0m     n_l, n_b, n_r, n_t \u001b[38;5;241m=\u001b[39m \u001b[43mtransform_bounds\u001b[49m\u001b[43m(\u001b[49m\u001b[43ms_crs\u001b[49m\u001b[43m,\u001b[49m\u001b[43m \u001b[49m\u001b[43mt_crs\u001b[49m\u001b[43m,\u001b[49m\u001b[43m \u001b[49m\u001b[43mleft\u001b[49m\u001b[43m,\u001b[49m\u001b[43m \u001b[49m\u001b[43mbottom\u001b[49m\u001b[43m,\u001b[49m\u001b[43m \u001b[49m\u001b[43mright\u001b[49m\u001b[43m,\u001b[49m\u001b[43m \u001b[49m\u001b[43mtop\u001b[49m\u001b[43m)\u001b[49m\n\u001b[0;32m    232\u001b[0m     \u001b[38;5;28;01mreturn\u001b[39;00m n_l, n_r, n_b, n_t\n",
      "File \u001b[1;32m~\\AppData\\Roaming\\Python\\Python313\\site-packages\\rasterio\\warp.py:148\u001b[0m, in \u001b[0;36mtransform_bounds\u001b[1;34m(src_crs, dst_crs, left, bottom, right, top, densify_pts)\u001b[0m\n\u001b[0;32m    121\u001b[0m \u001b[38;5;250m\u001b[39m\u001b[38;5;124;03m\"\"\"Transform bounds from src_crs to dst_crs.\u001b[39;00m\n\u001b[0;32m    122\u001b[0m \n\u001b[0;32m    123\u001b[0m \u001b[38;5;124;03mOptionally densifying the edges (to account for nonlinear transformations\u001b[39;00m\n\u001b[1;32m   (...)\u001b[0m\n\u001b[0;32m    145\u001b[0m \u001b[38;5;124;03m    Outermost coordinates in target coordinate reference system.\u001b[39;00m\n\u001b[0;32m    146\u001b[0m \u001b[38;5;124;03m\"\"\"\u001b[39;00m\n\u001b[0;32m    147\u001b[0m src_crs \u001b[38;5;241m=\u001b[39m CRS\u001b[38;5;241m.\u001b[39mfrom_user_input(src_crs)\n\u001b[1;32m--> 148\u001b[0m dst_crs \u001b[38;5;241m=\u001b[39m \u001b[43mCRS\u001b[49m\u001b[38;5;241;43m.\u001b[39;49m\u001b[43mfrom_user_input\u001b[49m\u001b[43m(\u001b[49m\u001b[43mdst_crs\u001b[49m\u001b[43m)\u001b[49m\n\u001b[0;32m    149\u001b[0m \u001b[38;5;28;01mreturn\u001b[39;00m _transform_bounds(\n\u001b[0;32m    150\u001b[0m     src_crs,\n\u001b[0;32m    151\u001b[0m     dst_crs,\n\u001b[1;32m   (...)\u001b[0m\n\u001b[0;32m    156\u001b[0m     densify_pts,\n\u001b[0;32m    157\u001b[0m )\n",
      "File \u001b[1;32mrasterio\\\\crs.pyx:790\u001b[0m, in \u001b[0;36mrasterio.crs.CRS.from_user_input\u001b[1;34m()\u001b[0m\n",
      "File \u001b[1;32mrasterio\\\\crs.pyx:852\u001b[0m, in \u001b[0;36mrasterio.crs.CRS.from_string\u001b[1;34m()\u001b[0m\n",
      "File \u001b[1;32mrasterio\\\\crs.pyx:596\u001b[0m, in \u001b[0;36mrasterio.crs.CRS.from_epsg\u001b[1;34m()\u001b[0m\n",
      "\u001b[1;31mCRSError\u001b[0m: The EPSG code is unknown. PROJ: proj_create_from_database: Cannot find proj.db"
     ]
    },
    {
     "data": {
      "image/png": "[encoded data removed]",
      "text/plain": [
       "<Figure size 1000x1000 with 1 Axes>"
      ]
     },
     "metadata": {},
     "output_type": "display_data"
    }
   ],
   "source": [
    "fig, ax = plt.subplots(figsize=(10,10))\n",
    "geo_df.plot(ax=ax)\n",
    "cx.add_basemap(ax, crs=geo_df.crs)\n",
    "plt.show()"
   ]
  }
 ],
 "metadata": {
  "kernelspec": {
   "display_name": "Python 3",
   "language": "python",
   "name": "python3"
  },
  "language_info": {
   "codemirror_mode": {
    "name": "ipython",
    "version": 3
   },
   "file_extension": ".py",
   "mimetype": "text/x-python",
   "name": "python",
   "nbconvert_exporter": "python",
   "pygments_lexer": "ipython3",
   "version": "3.13.2"
  }
 },
 "nbformat": 4,
 "nbformat_minor": 5
}
